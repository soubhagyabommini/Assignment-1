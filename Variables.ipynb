{
  "nbformat": 4,
  "nbformat_minor": 0,
  "metadata": {
    "colab": {
      "provenance": []
    },
    "kernelspec": {
      "name": "python3",
      "display_name": "Python 3"
    },
    "language_info": {
      "name": "python"
    }
  },
  "cells": [
    {
      "cell_type": "markdown",
      "source": [
        "Declaring and assigning variables\n"
      ],
      "metadata": {
        "id": "bSiA2nmOwU_n"
      }
    },
    {
      "cell_type": "code",
      "source": [
        "age=20\n",
        "name=\"sow\"\n",
        "height=5.3\n",
        "is_student=True\n",
        "print(\"age:\",age)\n",
        "print(\"height:\",height)\n",
        "print(\"name:\",name)\n",
        "\n",
        "\n",
        ""
      ],
      "metadata": {
        "colab": {
          "base_uri": "https://localhost:8080/"
        },
        "id": "0cNq_HICwkpc",
        "outputId": "a4489e67-2a9b-40c7-ef62-6cd2ee78d1fc"
      },
      "execution_count": 7,
      "outputs": [
        {
          "output_type": "stream",
          "name": "stdout",
          "text": [
            "age: 20\n",
            "height: 5.3\n",
            "name: sow\n"
          ]
        }
      ]
    },
    {
      "cell_type": "markdown",
      "source": [
        "Type checking and conversion\n"
      ],
      "metadata": {
        "id": "-hRHT2rWx0eR"
      }
    },
    {
      "cell_type": "code",
      "execution_count": 8,
      "metadata": {
        "colab": {
          "base_uri": "https://localhost:8080/"
        },
        "id": "rxJSLEfpwH6L",
        "outputId": "5a33550a-4f20-4cfc-ac8b-dc1424857fda"
      },
      "outputs": [
        {
          "output_type": "stream",
          "name": "stdout",
          "text": [
            "<class 'int'>\n",
            "<class 'str'>\n"
          ]
        }
      ],
      "source": [
        "age=20\n",
        "print(type(age))\n",
        "age_str=str(age)\n",
        "print(type(age_str))"
      ]
    },
    {
      "cell_type": "code",
      "source": [
        "height=5.1\n",
        "type(height)\n",
        "int(height)"
      ],
      "metadata": {
        "colab": {
          "base_uri": "https://localhost:8080/"
        },
        "id": "JSzho1YiyTj4",
        "outputId": "52d7182e-aa3f-4ec8-c0ab-9a24eaf2a943"
      },
      "execution_count": 9,
      "outputs": [
        {
          "output_type": "execute_result",
          "data": {
            "text/plain": [
              "5"
            ]
          },
          "metadata": {},
          "execution_count": 9
        }
      ]
    },
    {
      "cell_type": "markdown",
      "source": [
        "Dynamic Typing\n"
      ],
      "metadata": {
        "id": "_LpaLfFvyiSj"
      }
    },
    {
      "cell_type": "code",
      "source": [
        "var=10\n",
        "print=(var,type(var))\n",
        "var=\"hello\"\n",
        "print=(var,type(var))\n",
        "var=3.14\n",
        "print=(var,type(var))\n"
      ],
      "metadata": {
        "id": "Cl8vUPsiye6-"
      },
      "execution_count": 12,
      "outputs": []
    },
    {
      "cell_type": "code",
      "source": [
        "age=(int(input(\"what is the age\")))\n",
        "print(age,type(age))\n"
      ],
      "metadata": {
        "id": "nFXX-6opzTN0"
      },
      "execution_count": null,
      "outputs": []
    },
    {
      "cell_type": "markdown",
      "source": [
        "Adding two numbers"
      ],
      "metadata": {
        "id": "F4ResltFzwAB"
      }
    },
    {
      "cell_type": "code",
      "source": [
        "num1=int(input(\"enter first nnumber:\",))\n",
        "num2=nt(input(\"enter second number:\",))\n",
        "total=num1+num2\n",
        "print(\"the sum is:\",total)"
      ],
      "metadata": {
        "id": "MJxrPt2zztk3"
      },
      "execution_count": null,
      "outputs": []
    }
  ]
}