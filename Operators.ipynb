{
  "nbformat": 4,
  "nbformat_minor": 0,
  "metadata": {
    "colab": {
      "provenance": []
    },
    "kernelspec": {
      "name": "python3",
      "display_name": "Python 3"
    },
    "language_info": {
      "name": "python"
    }
  },
  "cells": [
    {
      "cell_type": "markdown",
      "source": [
        "Operators"
      ],
      "metadata": {
        "id": "yTrtuegRzRpi"
      }
    },
    {
      "cell_type": "code",
      "execution_count": 3,
      "metadata": {
        "colab": {
          "base_uri": "https://localhost:8080/"
        },
        "id": "uV6iPwKBzMYP",
        "outputId": "72c0098f-7658-4015-8cde-930b0a496407"
      },
      "outputs": [
        {
          "output_type": "stream",
          "name": "stdout",
          "text": [
            "35\n",
            "-15\n",
            "250\n",
            "0\n"
          ]
        }
      ],
      "source": [
        "##Arithemthic operation\n",
        "a=10\n",
        "b=25\n",
        "print(a+b)\n",
        "print(a-b)\n",
        "print(a*b)\n",
        "print(a//b)"
      ]
    },
    {
      "cell_type": "code",
      "source": [
        "##Comparision operator\n",
        "a=5\n",
        "b=5\n",
        "print(a==b)\n"
      ],
      "metadata": {
        "colab": {
          "base_uri": "https://localhost:8080/"
        },
        "id": "ddVxrx6L0Lj4",
        "outputId": "4b621146-a5d1-441e-eb35-4f2d0754103b"
      },
      "execution_count": 4,
      "outputs": [
        {
          "output_type": "stream",
          "name": "stdout",
          "text": [
            "True\n"
          ]
        }
      ]
    },
    {
      "cell_type": "code",
      "source": [
        "## not equal to\n",
        "str1=\"sou\"\n",
        "str2=\"Sou\"\n",
        "str1!=str2"
      ],
      "metadata": {
        "colab": {
          "base_uri": "https://localhost:8080/"
        },
        "id": "_41SVr5p0fZo",
        "outputId": "4fec4c08-e9a6-49ed-87bd-ec6294c8b474"
      },
      "execution_count": 5,
      "outputs": [
        {
          "output_type": "execute_result",
          "data": {
            "text/plain": [
              "True"
            ]
          },
          "metadata": {},
          "execution_count": 5
        }
      ]
    },
    {
      "cell_type": "code",
      "source": [
        "##equal to\n",
        "str1=\"dog\"\n",
        "str2=\"dog\"\n",
        "str1==str2"
      ],
      "metadata": {
        "colab": {
          "base_uri": "https://localhost:8080/"
        },
        "id": "_XSi9Pyh09Fl",
        "outputId": "c170a7ba-866b-4d99-b98f-0c1a0204e0d3"
      },
      "execution_count": 6,
      "outputs": [
        {
          "output_type": "execute_result",
          "data": {
            "text/plain": [
              "True"
            ]
          },
          "metadata": {},
          "execution_count": 6
        }
      ]
    },
    {
      "cell_type": "code",
      "source": [
        "## greater than\n",
        "num1=34\n",
        "num2=56\n",
        "print(num1>num2)"
      ],
      "metadata": {
        "colab": {
          "base_uri": "https://localhost:8080/"
        },
        "id": "D2c8Qztj1KY5",
        "outputId": "76dd3da9-fbb8-4619-e9c6-3820246fdc6e"
      },
      "execution_count": 7,
      "outputs": [
        {
          "output_type": "stream",
          "name": "stdout",
          "text": [
            "False\n"
          ]
        }
      ]
    },
    {
      "cell_type": "code",
      "source": [
        "## less than\n",
        "num1=20\n",
        "num2=45\n",
        "print(num1<num2)"
      ],
      "metadata": {
        "colab": {
          "base_uri": "https://localhost:8080/"
        },
        "id": "eaQZ0EDF1gmP",
        "outputId": "77c0f502-d9c2-44a8-8d44-f5026a4f25bf"
      },
      "execution_count": 8,
      "outputs": [
        {
          "output_type": "stream",
          "name": "stdout",
          "text": [
            "True\n"
          ]
        }
      ]
    },
    {
      "cell_type": "code",
      "source": [
        "## Greater than or equal to\n",
        "num1=30\n",
        "num2=30\n",
        "print(num1>=num2)"
      ],
      "metadata": {
        "colab": {
          "base_uri": "https://localhost:8080/"
        },
        "id": "wmpFqiV01uER",
        "outputId": "23ec0caf-5c35-416c-a1f1-da5383d9be57"
      },
      "execution_count": 9,
      "outputs": [
        {
          "output_type": "stream",
          "name": "stdout",
          "text": [
            "True\n"
          ]
        }
      ]
    },
    {
      "cell_type": "code",
      "source": [
        "## Less than or equal to\n",
        "num1=24\n",
        "num2=35\n",
        "print(num1<=num2)"
      ],
      "metadata": {
        "colab": {
          "base_uri": "https://localhost:8080/"
        },
        "id": "XlZ9Tzea19OA",
        "outputId": "d074f56c-2d21-4385-acb3-46b46587485c"
      },
      "execution_count": 10,
      "outputs": [
        {
          "output_type": "stream",
          "name": "stdout",
          "text": [
            "True\n"
          ]
        }
      ]
    },
    {
      "cell_type": "code",
      "source": [
        "## Logical Operators\n",
        "## AND\n",
        "A=\"sou\"\n",
        "B=\"sou\"\n",
        "print(A==B)"
      ],
      "metadata": {
        "id": "W1wZFGvu2Mwh"
      },
      "execution_count": null,
      "outputs": []
    },
    {
      "cell_type": "code",
      "source": [
        "A=True\n",
        "B=True\n",
        "A==B"
      ],
      "metadata": {
        "id": "myKJT6bS2ztV"
      },
      "execution_count": null,
      "outputs": []
    }
  ]
}