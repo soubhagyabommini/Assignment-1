{
  "nbformat": 4,
  "nbformat_minor": 0,
  "metadata": {
    "colab": {
      "provenance": []
    },
    "kernelspec": {
      "name": "python3",
      "display_name": "Python 3"
    },
    "language_info": {
      "name": "python"
    }
  },
  "cells": [
    {
      "cell_type": "markdown",
      "source": [
        "Conditional statements"
      ],
      "metadata": {
        "id": "tKQcfgGXFVPg"
      }
    },
    {
      "cell_type": "code",
      "source": [
        "## if statement\n",
        "age=20\n",
        "if age>=18:\n",
        "  print(\"you are allowed to vote\")\n"
      ],
      "metadata": {
        "colab": {
          "base_uri": "https://localhost:8080/"
        },
        "id": "Knk1SsRoFSwG",
        "outputId": "c56f5d75-3d00-42a4-c6aa-3f29c0a85274"
      },
      "execution_count": 2,
      "outputs": [
        {
          "output_type": "stream",
          "name": "stdout",
          "text": [
            "you are allowed to vote\n"
          ]
        }
      ]
    },
    {
      "cell_type": "code",
      "source": [
        "## else statement\n",
        "x=15\n",
        "if x>25:\n",
        "  print(\"x is greater than 25\")\n",
        "else:\n",
        "  print(\"x is not greater than 25\")\n"
      ],
      "metadata": {
        "colab": {
          "base_uri": "https://localhost:8080/"
        },
        "id": "psbfNUDHGjEV",
        "outputId": "f934f858-81af-43d0-e887-c54ba3673859"
      },
      "execution_count": 3,
      "outputs": [
        {
          "output_type": "stream",
          "name": "stdout",
          "text": [
            "x is not greater than 25\n"
          ]
        }
      ]
    },
    {
      "cell_type": "code",
      "source": [
        "## elif statement\n",
        "  temperature = 35\n",
        "  if temperture>50:\n",
        "      print(\"stay indoors\")\n",
        "  elif temperture>40:\n",
        "      print(\"wear light clothes\")\n",
        "  else:\n",
        "      print(\"enjoy the weather\")\n"
      ],
      "metadata": {
        "colab": {
          "base_uri": "https://localhost:8080/",
          "height": 106
        },
        "id": "hHS4MwaeHOpV",
        "outputId": "c9a7034e-b168-4976-930f-d16cea645717"
      },
      "execution_count": 15,
      "outputs": [
        {
          "output_type": "error",
          "ename": "IndentationError",
          "evalue": "unexpected indent (ipython-input-3775902226.py, line 2)",
          "traceback": [
            "\u001b[0;36m  File \u001b[0;32m\"/tmp/ipython-input-3775902226.py\"\u001b[0;36m, line \u001b[0;32m2\u001b[0m\n\u001b[0;31m    temperature = 35\u001b[0m\n\u001b[0m    ^\u001b[0m\n\u001b[0;31mIndentationError\u001b[0m\u001b[0;31m:\u001b[0m unexpected indent\n"
          ]
        }
      ]
    },
    {
      "cell_type": "code",
      "source": [
        "temperature = 45\n",
        "\n",
        "if temperature > 50:\n",
        "    print(\"stay indoors\")\n",
        "elif temperature > 40:\n",
        "    print(\"wear light clothes\")\n",
        "else:\n",
        "    print(\"enjoy the weather\")"
      ],
      "metadata": {
        "colab": {
          "base_uri": "https://localhost:8080/"
        },
        "id": "w-adWtzqIyim",
        "outputId": "7b8e46e6-aa90-48a2-8863-fa0d2cd02657"
      },
      "execution_count": 16,
      "outputs": [
        {
          "output_type": "stream",
          "name": "stdout",
          "text": [
            "wear light clothes\n"
          ]
        }
      ]
    },
    {
      "cell_type": "code",
      "source": [
        "## nested statement\n",
        "## even or odd\n",
        "num = int(input(\"enter a number\"))\n",
        "if num > 0:\n",
        "   print(\"the number is positive\")\n",
        "   if num % 2 == 0:\n",
        "      print(\"the number is even\")\n",
        "   else:\n",
        "       print(\"the number is odd\")\n",
        "else:\n",
        "    print(\"the number is zero or negative\")\n"
      ],
      "metadata": {
        "colab": {
          "base_uri": "https://localhost:8080/"
        },
        "id": "_tRibKweJfFK",
        "outputId": "8c5daccc-e0b1-4bca-e348-bfc57332ecff"
      },
      "execution_count": 17,
      "outputs": [
        {
          "output_type": "stream",
          "name": "stdout",
          "text": [
            "enter a number34\n",
            "the number is positive\n",
            "the number is even\n"
          ]
        }
      ]
    },
    {
      "cell_type": "code",
      "source": [
        "## Leap year program\n",
        "year = int(input(\"enter a year\"))\n",
        "if year % 4 == 0:\n",
        "   if year % 100 == 0:\n",
        "     if year % 400 == 0:\n",
        "        print(year ,\" this year is leap year\")\n",
        "     else:\n",
        "         print(year,\"this is not a leap year\")\n",
        "   else:\n",
        "        print( year,\"this is a leap year\")\n",
        "else:\n",
        "     print(year,\" this is not a leap year\")"
      ],
      "metadata": {
        "colab": {
          "base_uri": "https://localhost:8080/"
        },
        "id": "x8BBO57BKfqf",
        "outputId": "bf7364ac-48b3-4b4a-d59b-eb5bbaea0e50"
      },
      "execution_count": 22,
      "outputs": [
        {
          "output_type": "stream",
          "name": "stdout",
          "text": [
            "enter a year2000\n",
            "2000  this year is leap year\n"
          ]
        }
      ]
    }
  ]
}